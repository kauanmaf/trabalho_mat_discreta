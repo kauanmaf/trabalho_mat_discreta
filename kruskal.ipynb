{
 "cells": [
  {
   "cell_type": "code",
   "execution_count": 6,
   "metadata": {},
   "outputs": [],
   "source": [
    "class Graph: \n",
    "\n",
    "\tdef __init__(self, vertices): \n",
    "\t\tself.V = vertices \n",
    "\t\tself.graph = [] \n",
    "\t\t\n",
    "    # adicionar os vértices\n",
    "\tdef addEdge(self, u, v, peso): \n",
    "\t\tself.graph.append([u, v, peso]) \n",
    "\n",
    "\t# Find retorna a raiz da árvore de um dado vértice\n",
    "\tdef find(self, raiz, i): \n",
    "\t\t# Se a raiz não for o próprio vértice ele busca no antecessor\n",
    "\t\t# Se tiverem mesma raiz então estão contidos na mesma árvore geradora \n",
    "\t\tif raiz[i] != i: \n",
    "\t\t\traiz[i] = self.find(raiz, raiz[i]) \n",
    "\t\treturn raiz[i] \n",
    "\n",
    "\t# Union adiciona uma aresta se os vértices estiverem em conjuntos disjuntos\n",
    "    # Essa função evita adicionar arestas que formem ciclos\n",
    "\tdef union(self, raiz, nivel, x, y): \n",
    "\n",
    "\t\t# Coloca a raiz da árvore de menor nível como raiz da união das árvores \n",
    "\t\tif nivel[x] < nivel[y]: \n",
    "\t\t\traiz[x] = y \n",
    "\t\telif nivel[x] > nivel[y]: \n",
    "\t\t\traiz[y] = x \n",
    "\n",
    "\t\t# Se tem mesmo nível, coloca a raiz de uma das árvores e aumentam em 1 o nível \n",
    "\t\telse: \n",
    "\t\t\traiz[y] = x \n",
    "\t\t\tnivel[x] += 1\n",
    "\n",
    "\t# Função principal\n",
    "\tdef KruskalMST(self): \n",
    "\t\t# Árvore resultante \n",
    "\t\tresult = [] \n",
    "\n",
    "\t\t# Ordenando pelo peso da aresta\n",
    "\t\tself.graph = sorted(self.graph, key=lambda item: item[2])\n",
    "\n",
    "        # Variável para guardar a raiz\n",
    "\t\traiz = [] \n",
    "\t\t# Variável para guardar a profundidade\n",
    "\t\tnivel = [] \n",
    "\n",
    "\t\t# Adicionando o primeiro vértice \n",
    "\t\tfor node in range(self.V): \n",
    "\t\t\traiz.append(node) \n",
    "\t\t\tnivel.append(0) \n",
    "\n",
    "\t\t# índices para as arestas ordenadas \n",
    "\t\ti = 0\n",
    "\n",
    "\t\t# arestas na árvore gerada \n",
    "\t\te = 0\n",
    "\n",
    "\t\t# Número de arestas deve ser v-1  \n",
    "\t\twhile e < self.V - 1: \n",
    "            # Pega vértices da aresta de menor peso\n",
    "\t\t\tu, v, peso = self.graph[i]\n",
    "\t\t\t# Itera para a aresta seguinte de menor peso \n",
    "\t\t\ti = i + 1\n",
    "\t\t\t\n",
    "            # Retorna a raiz de cada vértice dado\n",
    "\t\t\tx = self.find(raiz, u) \n",
    "\t\t\ty = self.find(raiz, v) \n",
    "\n",
    "\t\t\t# Se tiverem raízes diferentes então a aresta entre os vértices não forma ciclo\n",
    "\t\t\tif x != y: \n",
    "\t\t\t\te = e + 1\n",
    "\t\t\t\t# Adiciona a aresta na árvore gerada\n",
    "\t\t\t\tresult.append([u, v, peso]) \n",
    "\t\t\t\t# Faz a união da aresta adicionada com a árvode gerada anteriormente\n",
    "\t\t\t\tself.union(raiz, nivel, x, y) \n",
    "\t\t\t# Else descarta a aresta, pois forma um ciclo\n",
    "\n",
    "\t\tminimumCost = 0\n",
    "\t\t# Iteração para mostrar as arestas presentes e o peso total\n",
    "\t\tprint(\"Arestas presentes na árvore resultante:\") \n",
    "\t\tfor u, v, peso in result: \n",
    "\t\t\tminimumCost += peso \n",
    "\t\t\tprint(\"%d -- %d == %d\" % (u, v, peso)) \n",
    "\t\tprint(\"Minimum Spanning Tree\", minimumCost)"
   ]
  },
  {
   "cell_type": "code",
   "execution_count": 7,
   "metadata": {},
   "outputs": [
    {
     "name": "stdout",
     "output_type": "stream",
     "text": [
      "Arestas presentes na árvore resultante:\n",
      "2 -- 3 == 4\n",
      "0 -- 3 == 5\n",
      "0 -- 1 == 10\n",
      "Minimum Spanning Tree 19\n"
     ]
    }
   ],
   "source": [
    "g = Graph(4) \n",
    "g.addEdge(0, 1, 10) \n",
    "g.addEdge(0, 2, 6) \n",
    "g.addEdge(0, 3, 5) \n",
    "g.addEdge(1, 3, 15) \n",
    "g.addEdge(2, 3, 4) \n",
    "\n",
    "g.KruskalMST() "
   ]
  },
  {
   "cell_type": "code",
   "execution_count": 9,
   "metadata": {},
   "outputs": [
    {
     "name": "stdout",
     "output_type": "stream",
     "text": [
      "Arestas presentes na árvore resultante:\n",
      "1 -- 2 == 2\n",
      "2 -- 5 == 2\n",
      "2 -- 3 == 3\n",
      "3 -- 4 == 3\n",
      "0 -- 1 == 4\n",
      "Minimum Spanning Tree 14\n"
     ]
    }
   ],
   "source": [
    "g = Graph(6)\n",
    "g.addEdge(0, 1, 4)\n",
    "g.addEdge(0, 2, 4)\n",
    "g.addEdge(1, 2, 2)\n",
    "g.addEdge(1, 0, 4)\n",
    "g.addEdge(2, 0, 4)\n",
    "g.addEdge(2, 1, 2)\n",
    "g.addEdge(2, 3, 3)\n",
    "g.addEdge(2, 5, 2)\n",
    "g.addEdge(2, 4, 4)\n",
    "g.addEdge(3, 2, 3)\n",
    "g.addEdge(3, 4, 3)\n",
    "g.addEdge(4, 2, 4)\n",
    "g.addEdge(4, 3, 3)\n",
    "g.addEdge(5, 2, 2)\n",
    "g.addEdge(5, 4, 3)\n",
    "\n",
    "g.KruskalMST() "
   ]
  }
 ],
 "metadata": {
  "kernelspec": {
   "display_name": "Python 3",
   "language": "python",
   "name": "python3"
  },
  "language_info": {
   "codemirror_mode": {
    "name": "ipython",
    "version": 3
   },
   "file_extension": ".py",
   "mimetype": "text/x-python",
   "name": "python",
   "nbconvert_exporter": "python",
   "pygments_lexer": "ipython3",
   "version": "3.10.10"
  }
 },
 "nbformat": 4,
 "nbformat_minor": 2
}
